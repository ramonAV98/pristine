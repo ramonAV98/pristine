{
 "cells": [
  {
   "cell_type": "code",
   "execution_count": 16,
   "metadata": {},
   "outputs": [
    {
     "name": "stdout",
     "output_type": "stream",
     "text": [
      "The autoreload extension is already loaded. To reload it, use:\n",
      "  %reload_ext autoreload\n"
     ]
    }
   ],
   "source": [
    "%load_ext autoreload\n",
    "%autoreload 2"
   ]
  },
  {
   "cell_type": "code",
   "execution_count": 2,
   "metadata": {},
   "outputs": [],
   "source": [
    "import os\n",
    "PATH = '..'\n",
    "os.chdir(PATH)"
   ]
  },
  {
   "cell_type": "code",
   "execution_count": 9,
   "metadata": {},
   "outputs": [],
   "source": [
    "# Tickers collection\n",
    "\n",
    "tickers = pd.read_csv('companylist.csv')['Symbol'].values.tolist()"
   ]
  },
  {
   "cell_type": "code",
   "execution_count": 10,
   "metadata": {},
   "outputs": [],
   "source": [
    "import pandas as pd\n",
    "from criteria.criteria_verifier import criteria_verifier"
   ]
  },
  {
   "cell_type": "code",
   "execution_count": 11,
   "metadata": {},
   "outputs": [
    {
     "data": {
      "text/html": [
       "<div>\n",
       "<style scoped>\n",
       "    .dataframe tbody tr th:only-of-type {\n",
       "        vertical-align: middle;\n",
       "    }\n",
       "\n",
       "    .dataframe tbody tr th {\n",
       "        vertical-align: top;\n",
       "    }\n",
       "\n",
       "    .dataframe thead th {\n",
       "        text-align: right;\n",
       "    }\n",
       "</style>\n",
       "<table border=\"1\" class=\"dataframe\">\n",
       "  <thead>\n",
       "    <tr style=\"text-align: right;\">\n",
       "      <th>Attributes</th>\n",
       "      <th>Date</th>\n",
       "      <th>Adj Close</th>\n",
       "      <th>Close</th>\n",
       "      <th>High</th>\n",
       "      <th>Low</th>\n",
       "      <th>Open</th>\n",
       "      <th>Volume</th>\n",
       "    </tr>\n",
       "  </thead>\n",
       "  <tbody>\n",
       "    <tr>\n",
       "      <th>90</th>\n",
       "      <td>2021-03-01</td>\n",
       "      <td>186.750000</td>\n",
       "      <td>186.750000</td>\n",
       "      <td>187.110001</td>\n",
       "      <td>178.009995</td>\n",
       "      <td>179.380005</td>\n",
       "      <td>897500</td>\n",
       "    </tr>\n",
       "    <tr>\n",
       "      <th>91</th>\n",
       "      <td>2021-03-02</td>\n",
       "      <td>186.720001</td>\n",
       "      <td>186.720001</td>\n",
       "      <td>193.820007</td>\n",
       "      <td>185.570007</td>\n",
       "      <td>188.259995</td>\n",
       "      <td>904700</td>\n",
       "    </tr>\n",
       "    <tr>\n",
       "      <th>92</th>\n",
       "      <td>2021-03-03</td>\n",
       "      <td>173.210007</td>\n",
       "      <td>173.210007</td>\n",
       "      <td>187.397995</td>\n",
       "      <td>171.190002</td>\n",
       "      <td>185.360001</td>\n",
       "      <td>663300</td>\n",
       "    </tr>\n",
       "    <tr>\n",
       "      <th>93</th>\n",
       "      <td>2021-03-04</td>\n",
       "      <td>147.399994</td>\n",
       "      <td>147.399994</td>\n",
       "      <td>173.664993</td>\n",
       "      <td>146.380005</td>\n",
       "      <td>171.550003</td>\n",
       "      <td>1417800</td>\n",
       "    </tr>\n",
       "    <tr>\n",
       "      <th>94</th>\n",
       "      <td>2021-03-05</td>\n",
       "      <td>155.580002</td>\n",
       "      <td>155.580002</td>\n",
       "      <td>157.037994</td>\n",
       "      <td>140.845001</td>\n",
       "      <td>152.009995</td>\n",
       "      <td>1611800</td>\n",
       "    </tr>\n",
       "  </tbody>\n",
       "</table>\n",
       "</div>"
      ],
      "text/plain": [
       "Attributes       Date   Adj Close       Close        High         Low  \\\n",
       "90         2021-03-01  186.750000  186.750000  187.110001  178.009995   \n",
       "91         2021-03-02  186.720001  186.720001  193.820007  185.570007   \n",
       "92         2021-03-03  173.210007  173.210007  187.397995  171.190002   \n",
       "93         2021-03-04  147.399994  147.399994  173.664993  146.380005   \n",
       "94         2021-03-05  155.580002  155.580002  157.037994  140.845001   \n",
       "\n",
       "Attributes        Open   Volume  \n",
       "90          179.380005   897500  \n",
       "91          188.259995   904700  \n",
       "92          185.360001   663300  \n",
       "93          171.550003  1417800  \n",
       "94          152.009995  1611800  "
      ]
     },
     "execution_count": 11,
     "metadata": {},
     "output_type": "execute_result"
    }
   ],
   "source": [
    "# Load data\n",
    "\n",
    "end_date = pd.Timestamp('today')\n",
    "df_temp, _ = load_data(['TXG'], '2021-03-05')\n",
    "df_temp = df_temp['TXG']\n",
    "df_temp.reset_index(inplace=True)\n",
    "df_temp.tail()"
   ]
  },
  {
   "cell_type": "code",
   "execution_count": 15,
   "metadata": {},
   "outputs": [
    {
     "name": "stderr",
     "output_type": "stream",
     "text": [
      "/Users/ramonamezquita/Desktop/Proyectos/Repos/pristine/my_venv/lib/python3.8/site-packages/pandas_datareader/base.py:270: SymbolWarning: Failed to read symbol: 'PIH', replacing with NaN.\n",
      "  warnings.warn(msg.format(sym), SymbolWarning)\n",
      "/Users/ramonamezquita/Desktop/Proyectos/Repos/pristine/my_venv/lib/python3.8/site-packages/pandas_datareader/base.py:270: SymbolWarning: Failed to read symbol: 'PIHPP', replacing with NaN.\n",
      "  warnings.warn(msg.format(sym), SymbolWarning)\n"
     ]
    },
    {
     "data": {
      "text/html": [
       "<div>\n",
       "<style scoped>\n",
       "    .dataframe tbody tr th:only-of-type {\n",
       "        vertical-align: middle;\n",
       "    }\n",
       "\n",
       "    .dataframe tbody tr th {\n",
       "        vertical-align: top;\n",
       "    }\n",
       "\n",
       "    .dataframe thead th {\n",
       "        text-align: right;\n",
       "    }\n",
       "</style>\n",
       "<table border=\"1\" class=\"dataframe\">\n",
       "  <thead>\n",
       "    <tr style=\"text-align: right;\">\n",
       "      <th></th>\n",
       "      <th>40ma uptrend</th>\n",
       "      <th>20ma uptrend</th>\n",
       "      <th>contiguous desc high</th>\n",
       "      <th>contiguous red candles</th>\n",
       "      <th>pro volume</th>\n",
       "      <th>narrow body</th>\n",
       "      <th>symbol</th>\n",
       "    </tr>\n",
       "  </thead>\n",
       "  <tbody>\n",
       "    <tr>\n",
       "      <th>0</th>\n",
       "      <td>0</td>\n",
       "      <td>0</td>\n",
       "      <td>0</td>\n",
       "      <td>0</td>\n",
       "      <td>0</td>\n",
       "      <td>1</td>\n",
       "      <td>TXG</td>\n",
       "    </tr>\n",
       "    <tr>\n",
       "      <th>1</th>\n",
       "      <td>1</td>\n",
       "      <td>0</td>\n",
       "      <td>0</td>\n",
       "      <td>0</td>\n",
       "      <td>0</td>\n",
       "      <td>1</td>\n",
       "      <td>YI</td>\n",
       "    </tr>\n",
       "    <tr>\n",
       "      <th>2</th>\n",
       "      <td>1</td>\n",
       "      <td>1</td>\n",
       "      <td>1</td>\n",
       "      <td>1</td>\n",
       "      <td>0</td>\n",
       "      <td>1</td>\n",
       "      <td>TURN</td>\n",
       "    </tr>\n",
       "  </tbody>\n",
       "</table>\n",
       "</div>"
      ],
      "text/plain": [
       "   40ma uptrend  20ma uptrend  contiguous desc high  contiguous red candles  \\\n",
       "0             0             0                     0                       0   \n",
       "1             1             0                     0                       0   \n",
       "2             1             1                     1                       1   \n",
       "\n",
       "   pro volume  narrow body symbol  \n",
       "0           0            1    TXG  \n",
       "1           0            1     YI  \n",
       "2           0            1   TURN  "
      ]
     },
     "execution_count": 15,
     "metadata": {},
     "output_type": "execute_result"
    }
   ],
   "source": [
    "pd.DataFrame(criteria_verifier(tickers[:5]))"
   ]
  },
  {
   "cell_type": "code",
   "execution_count": null,
   "metadata": {},
   "outputs": [],
   "source": []
  },
  {
   "cell_type": "code",
   "execution_count": null,
   "metadata": {},
   "outputs": [],
   "source": []
  }
 ],
 "metadata": {
  "kernelspec": {
   "display_name": "Python 3",
   "language": "python",
   "name": "python3"
  },
  "language_info": {
   "codemirror_mode": {
    "name": "ipython",
    "version": 3
   },
   "file_extension": ".py",
   "mimetype": "text/x-python",
   "name": "python",
   "nbconvert_exporter": "python",
   "pygments_lexer": "ipython3",
   "version": "3.8.2"
  }
 },
 "nbformat": 4,
 "nbformat_minor": 4
}
